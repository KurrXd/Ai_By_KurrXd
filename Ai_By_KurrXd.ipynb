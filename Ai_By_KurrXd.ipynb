{
  "nbformat": 4,
  "nbformat_minor": 0,
  "metadata": {
    "colab": {
      "provenance": [],
      "include_colab_link": true
    },
    "kernelspec": {
      "name": "python3",
      "display_name": "Python 3"
    },
    "language_info": {
      "name": "python"
    },
    "accelerator": "GPU",
    "gpuClass": "standard"
  },
  "cells": [
    {
      "cell_type": "markdown",
      "metadata": {
        "id": "view-in-github",
        "colab_type": "text"
      },
      "source": [
        "<a href=\"https://colab.research.google.com/github/KurrXd/Ai_By_KurrXd/blob/main/Ai_By_KurrXd.ipynb\" target=\"_parent\"><img src=\"https://colab.research.google.com/assets/colab-badge.svg\" alt=\"Open In Colab\"/></a>"
      ]
    },
    {
      "cell_type": "code",
      "source": [
        "#@title 0. CLONE REPO\n",
        "!rm -rf so-vits-test\n",
        "!mkdir so-vits-test\n",
        "!wget -N \"https://huggingface.co/uki-kun/jokowi-so-vits-svc-model/resolve/main/G_1528.pth\" -P so-vits-test/\n",
        "!wget -N \"https://huggingface.co/uki-kun/jokowi-so-vits-svc-model/resolve/main/config.json\" -P so-vits-test/"
      ],
      "metadata": {
        "id": "MAEujsmx7-U8"
      },
      "execution_count": null,
      "outputs": []
    },
     {
      "cell_type": "code",
      "source": [
        "#@title 1. Wajib Ini Dulu\n",
        "!python3 -m pip install -U demucs\n",
        "!python -m pip install -U pip wheel\n",
        "%pip install -U ipython\n",
        "%pip install -U so-vits-svc-fork\n",
        "!pip install yt_dlp\n",
        "!pip install ffmpeg\n"
      ],
      "metadata": {
        "id": "-RGvSkYv9_aL"
      },
      "execution_count": null,
      "outputs": []
    },
   
    {
      "cell_type": "code",
      "execution_count": null,
      "metadata": {
        "cellView": "form",
        "id": "doHo0Gzb5ePk"
      },
      "outputs": [],
      "source": [
        "#@title 2. YTDL WAV\n",
        "from __future__ import unicode_literals\n",
        "!rm -rf youtubeaudio\n",
        "!mkdir youtubeaudio\n",
        "import yt_dlp\n",
        "import ffmpeg\n",
        "import sys\n",
        "\n",
        "ydl_opts = {\n",
        "    'format': 'bestaudio/best',\n",
        "#    'outtmpl': 'output.%(ext)s',\n",
        "    'postprocessors': [{\n",
        "        'key': 'FFmpegExtractAudio',\n",
        "        'preferredcodec': 'wav',\n",
        "    }],\n",
        "    \"outtmpl\": 'youtubeaudio/audio',  # this is where you can edit how you'd like the filenames to be formatted\n",
        "}\n",
        "def download_from_url(url):\n",
        "    ydl.download([url])\n",
        "    # stream = ffmpeg.input('output.m4a')\n",
        "    # stream = ffmpeg.output(stream, 'output.wav')\n",
        "\n",
        "\n",
        "with yt_dlp.YoutubeDL(ydl_opts) as ydl:\n",
        "      url = \"https://www.youtube.com/watch?v=cQGfLDnmWS8&pp=ygULYXNtYWxpYnJhc2k%3D\" #@param {type:\"string\"}\n",
        "      download_from_url(url)\n",
        "\n",
        "\n",
        "\n"
      ]
    },
   
    {
      "cell_type": "code",
      "source": [
        "#@title 3. Pisah Vocal / Instrument\n",
        "import subprocess\n",
        "AUDIO_INPUT = \"/content/youtubeaudio/audio.wav\" #@param {type:\"string\"}\n",
        "\n",
        "command = f\"demucs --two-stems=vocals {AUDIO_INPUT}\"\n",
        "result = subprocess.run(command.split(), stdout=subprocess.PIPE)\n",
        "print(result.stdout.decode())"
      ],
      "metadata": {
        "id": "cZidoluC-EZ-"
      },
      "execution_count": null,
      "outputs": []
    },
   
   
    {
      "cell_type": "code",
      "source": [
        "#@title 4. Ubah Voice\n",
        "#@markdown remove \".wav\" on AUDIO\n",
        "from IPython.display import Audio\n",
        "\n",
        "AUDIO = \"/content/separated/htdemucs/audio/vocals\" #@param {type:\"string\"}\n",
        "MODEL = \"/content/so-vits-test/G_1528.pth\" #@param {type:\"string\"}\n",
        "CONFIG = \"/content/so-vits-test/config.json\" #@param {type:\"string\"}\n",
        "#@markdown Change According to Your Voice Tone. 12 = 1 Octave | -12 = -1 Octave\n",
        "PITCH = 0 #@param {type:\"integer\"}\n",
        "\n",
        "!svc infer {AUDIO}.wav -c {CONFIG} -m {MODEL} -na -t {PITCH}\n",
        "# Try comment this line below if you got Runtime Error\n",
        "try:\n",
        "  display(Audio(f\"{AUDIO}.out.wav\", autoplay=True))\n",
        "except Exception as e:  print(\"Error:\", str(e))\n"
      ],
      "metadata": {
        "id": "dLDnmZ9pH0mG"
      },
      "execution_count": null,
      "outputs": []
    },
   
    
    {
      "cell_type": "code",
      "source": [
        "#@title 5. Campur Vocal and Instrument (Song Cover)\n",
        "!pip install pydub\n",
        "from pydub import AudioSegment\n",
        "\n",
        "VOCAL = \"/content/separated/htdemucs/audio/vocals.out.wav\" #@param {type:\"string\"}\n",
        "INSTRUMENT = \"/content/separated/htdemucs/audio/no_vocals.wav\" #@param {type:\"string\"}\n",
        "\n",
        "sound1 = AudioSegment.from_file(VOCAL)\n",
        "sound2 = AudioSegment.from_file(INSTRUMENT)\n",
        "\n",
        "combined = sound1.overlay(sound2)\n",
        "\n",
        "combined.export(\"/content/FinalCover.wav\", format='wav')\n",
        "try:\n",
        "  display(Audio(f\"/content/FinalCover.wav\", autoplay=True))\n",
        "except Exception as e:  print(\"Error:\", str(e))\n"
      ],
      "metadata": {
        "id": "w781LsPh_2Xf"
      },
      "execution_count": null,
      "outputs": []
    },
    {
      "cell_type": "code",
      "source": [
        "#@title 6. Suara Sendiri Record Disini\n",
        "audio, sr = get_audio()"
      ],
      "metadata": {
        "id": "hqcCW1h-NUB4"
      },
      "execution_count": null,
      "outputs": []
    }
  ]
}
